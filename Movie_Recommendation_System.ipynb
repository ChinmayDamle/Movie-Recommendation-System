{
  "nbformat": 4,
  "nbformat_minor": 0,
  "metadata": {
    "colab": {
      "provenance": [],
      "authorship_tag": "ABX9TyMbjBG/ePyh4XFzGzfqFR9+",
      "include_colab_link": true
    },
    "kernelspec": {
      "name": "python3",
      "display_name": "Python 3"
    },
    "language_info": {
      "name": "python"
    }
  },
  "cells": [
    {
      "cell_type": "markdown",
      "metadata": {
        "id": "view-in-github",
        "colab_type": "text"
      },
      "source": [
        "<a href=\"https://colab.research.google.com/github/ChinmayDamle/Movie-Recommendation-System/blob/main/Movie_Recommendation_System.ipynb\" target=\"_parent\"><img src=\"https://colab.research.google.com/assets/colab-badge.svg\" alt=\"Open In Colab\"/></a>"
      ]
    },
    {
      "cell_type": "markdown",
      "source": [
        "Title of Project"
      ],
      "metadata": {
        "id": "bokngiJTJd_I"
      }
    },
    {
      "cell_type": "code",
      "source": [
        "# Movie Recommendation System"
      ],
      "metadata": {
        "id": "rkiQupg_JhYy"
      },
      "execution_count": null,
      "outputs": []
    },
    {
      "cell_type": "markdown",
      "source": [
        "Objective"
      ],
      "metadata": {
        "id": "flZ3WinBJpfM"
      }
    },
    {
      "cell_type": "code",
      "source": [
        "# The project aims to develop a movie recommendation system using machine learning techniques to suggest personalized movie options based on user preferences and movie features. Evaluation metrics like RMSE will assess the system's performance, with the ultimate goal of deploying a user-friendly platform to enhance movie-watching experiences."
      ],
      "metadata": {
        "id": "nHq63bwjJrGX"
      },
      "execution_count": null,
      "outputs": []
    },
    {
      "cell_type": "markdown",
      "source": [
        "Data Source"
      ],
      "metadata": {
        "id": "_EKtRGLYKCGV"
      }
    },
    {
      "cell_type": "code",
      "source": [
        "# https://raw.githubusercontent.com/kishan0725/The-Movie-Cinema/master/datasets/final_data.csv"
      ],
      "metadata": {
        "id": "ZrWZRI9QKGiB"
      },
      "execution_count": null,
      "outputs": []
    },
    {
      "cell_type": "markdown",
      "source": [
        "Code"
      ],
      "metadata": {
        "id": "Gv3q20MTRL21"
      }
    },
    {
      "cell_type": "code",
      "source": [
        "import pandas as pd\n",
        "import numpy as np\n",
        "import matplotlib.pyplot as plt\n",
        "import seaborn as sns\n",
        "from sklearn.model_selection import train_test_split\n",
        "from sklearn.metrics import mean_squared_error\n",
        "from sklearn.preprocessing import LabelEncoder\n",
        "from sklearn.neighbors import KNeighborsRegressor\n",
        "\n",
        "# Import Data\n",
        "url = \"https://raw.githubusercontent.com/kishan0725/The-Movie-Cinema/master/datasets/final_data.csv\"\n",
        "\n",
        "try:\n",
        "    # Load the dataset\n",
        "    data = pd.read_csv(url)\n",
        "\n",
        "    # Check if 'Rating' column exists\n",
        "    # if 'Rating' not in data.columns:\n",
        "    #     raise KeyError(\"The 'Rating' column does not exist in the dataset.\")\n",
        "\n",
        "    # Describe Data\n",
        "    print(\"Shape of the dataset:\", data.shape)\n",
        "    print(\"Columns in the dataset:\", data.columns)\n",
        "    print(\"First few rows of the dataset:\")\n",
        "    print(data.head())\n",
        "\n",
        "    # Data Visualization\n",
        "    plt.figure(figsize=(10, 6))\n",
        "    # sns.histplot(data['Rating'], bins=20, kde=True, color='skyblue')\n",
        "    plt.title('Distribution of Movie Ratings')\n",
        "    plt.xlabel('Rating')\n",
        "    plt.ylabel('Frequency')\n",
        "    plt.show()\n",
        "\n",
        "    # Data Preprocessing\n",
        "    label_encoder = LabelEncoder()\n",
        "    data['Genre'] = label_encoder.fit_transform(data['Genre'])\n",
        "\n",
        "    # Define Target Variable (y) and Feature Variables (X)\n",
        "    X = data.drop(columns=['Rating'])\n",
        "    y = data['Rating']\n",
        "\n",
        "    # Train Test Split\n",
        "    X_train, X_test, y_train, y_test = train_test_split(X, y, test_size=0.2, random_state=42)\n",
        "\n",
        "    # Modeling\n",
        "    model = KNeighborsRegressor(n_neighbors=5)\n",
        "    model.fit(X_train, y_train)\n",
        "\n",
        "    # Model Evaluation\n",
        "    y_pred = model.predict(X_test)\n",
        "    rmse = np.sqrt(mean_squared_error(y_test, y_pred))\n",
        "    print(\"Root Mean Squared Error:\", rmse)\n",
        "\n",
        "    # Prediction\n",
        "    print(\"Predictions for the first 5 samples in the test set:\")\n",
        "    print(model.predict(X_test.head()))\n",
        "\n",
        "    # Explanation\n",
        "    print(\"This movie recommendation system uses the K-Nearest Neighbors algorithm to predict movie ratings based on features such as genre, runtime, and year of release. After training the model and evaluating its performance, we achieved a Root Mean Squared Error (RMSE) of\", rmse, \"on the test set. The RMSE indicates the average difference between the actual and predicted ratings. With further refinement and tuning, this recommendation system can be deployed to provide personalized movie recommendations to users.\")\n",
        "\n",
        "except Exception as e:\n",
        "    print(\"An error occurred:\", e)\n"
      ],
      "metadata": {
        "colab": {
          "base_uri": "https://localhost:8080/",
          "height": 1000
        },
        "id": "dIN9mfW4QrHD",
        "outputId": "e676ef9d-dc39-4e3f-c961-84b46cda0a4f"
      },
      "execution_count": 19,
      "outputs": [
        {
          "output_type": "stream",
          "name": "stdout",
          "text": [
            "Shape of the dataset: (36846, 7)\n",
            "Columns in the dataset: Index(['director_name', 'actor_1_name', 'actor_2_name', 'actor_3_name',\n",
            "       'genres', 'movie_title', 'comb'],\n",
            "      dtype='object')\n",
            "First few rows of the dataset:\n",
            "     director_name     actor_1_name    actor_2_name    actor_3_name  \\\n",
            "0    John Lasseter        Tom Hanks       Tim Allen     Don Rickles   \n",
            "1     Joe Johnston   Robin Williams   Jonathan Hyde   Kirsten Dunst   \n",
            "2    Howard Deutch   Walter Matthau     Jack Lemmon     Ann-Margret   \n",
            "3  Forest Whitaker  Whitney Houston  Angela Bassett  Loretta Devine   \n",
            "4    Charles Shyer     Steve Martin    Diane Keaton    Martin Short   \n",
            "\n",
            "                     genres                  movie_title  \\\n",
            "0   Animation Comedy Family                    toy story   \n",
            "1  Adventure Fantasy Family                      jumanji   \n",
            "2            Romance Comedy             grumpier old men   \n",
            "3      Comedy Drama Romance            waiting to exhale   \n",
            "4                    Comedy  father of the bride part ii   \n",
            "\n",
            "                                                comb  \n",
            "0  Tom Hanks Tim Allen Don Rickles John Lasseter ...  \n",
            "1  Robin Williams Jonathan Hyde Kirsten Dunst Joe...  \n",
            "2  Walter Matthau Jack Lemmon Ann-Margret Howard ...  \n",
            "3  Whitney Houston Angela Bassett Loretta Devine ...  \n",
            "4  Steve Martin Diane Keaton Martin Short Charles...  \n"
          ]
        },
        {
          "output_type": "display_data",
          "data": {
            "text/plain": [
              "<Figure size 1000x600 with 1 Axes>"
            ],
            "image/png": "[encoded data removed]"
          },
          "metadata": {}
        },
        {
          "output_type": "stream",
          "name": "stdout",
          "text": [
            "An error occurred: 'Genre'\n"
          ]
        }
      ]
    }
  ]
}