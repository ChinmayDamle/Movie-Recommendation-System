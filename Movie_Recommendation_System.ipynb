{
  "nbformat": 4,
  "nbformat_minor": 0,
  "metadata": {
    "colab": {
      "provenance": [],
      "authorship_tag": "ABX9TyOLOsNxLd+dEZyQED/inz6R",
      "include_colab_link": true
    },
    "kernelspec": {
      "name": "python3",
      "display_name": "Python 3"
    },
    "language_info": {
      "name": "python"
    }
  },
  "cells": [
    {
      "cell_type": "markdown",
      "metadata": {
        "id": "view-in-github",
        "colab_type": "text"
      },
      "source": [
        "<a href=\"https://colab.research.google.com/github/ChinmayDamle/Movie-Recommendation-System/blob/main/Movie_Recommendation_System.ipynb\" target=\"_parent\"><img src=\"https://colab.research.google.com/assets/colab-badge.svg\" alt=\"Open In Colab\"/></a>"
      ]
    },
    {
      "cell_type": "markdown",
      "source": [
        "Title of Project"
      ],
      "metadata": {
        "id": "bokngiJTJd_I"
      }
    },
    {
      "cell_type": "code",
      "source": [
        "# Movie Recommendation System"
      ],
      "metadata": {
        "id": "rkiQupg_JhYy"
      },
      "execution_count": null,
      "outputs": []
    },
    {
      "cell_type": "markdown",
      "source": [
        "Objective"
      ],
      "metadata": {
        "id": "flZ3WinBJpfM"
      }
    },
    {
      "cell_type": "code",
      "source": [
        "# The project aims to develop a movie recommendation system using machine learning techniques to suggest personalized movie options based on user preferences and movie features. Evaluation metrics like RMSE will assess the system's performance, with the ultimate goal of deploying a user-friendly platform to enhance movie-watching experiences."
      ],
      "metadata": {
        "id": "nHq63bwjJrGX"
      },
      "execution_count": null,
      "outputs": []
    },
    {
      "cell_type": "markdown",
      "source": [
        "Data Source"
      ],
      "metadata": {
        "id": "_EKtRGLYKCGV"
      }
    },
    {
      "cell_type": "code",
      "source": [
        "# https://raw.githubusercontent.com/kishan0725/The-Movie-Cinema/master/datasets/final_data.csv"
      ],
      "metadata": {
        "id": "ZrWZRI9QKGiB"
      },
      "execution_count": null,
      "outputs": []
    },
    {
      "cell_type": "markdown",
      "source": [
        "Import Libraries"
      ],
      "metadata": {
        "id": "uCERDT-iKOlu"
      }
    },
    {
      "cell_type": "code",
      "source": [
        "import pandas as pd\n",
        "import numpy as np\n",
        "import matplotlib.pyplot as plt\n",
        "import seaborn as sns\n",
        "from sklearn.model_selection import train_test_split\n",
        "from sklearn.metrics import mean_squared_error\n",
        "from sklearn.preprocessing import LabelEncoder\n",
        "from sklearn.neighbors import KNeighborsRegressor"
      ],
      "metadata": {
        "id": "x4p8m3Y2KQUM"
      },
      "execution_count": null,
      "outputs": []
    },
    {
      "cell_type": "markdown",
      "source": [
        "Import Data"
      ],
      "metadata": {
        "id": "Hu5T-4KCKbNU"
      }
    },
    {
      "cell_type": "code",
      "source": [
        "# Import Data\n",
        "url = \"https://raw.githubusercontent.com/kishan0725/The-Movie-Cinema/master/datasets/final_data.csv\"\n",
        "# try:\n",
        "    # Load the dataset\n",
        "data = pd.read_csv(url)\n",
        "\n",
        "     # Check if 'Rating' column exists\n",
        "    # if 'Rating' not in data.columns:\n",
        "    #     raise KeyError(\"The 'Rating' column does not exist in the dataset.\")\n"
      ],
      "metadata": {
        "id": "LSfZaXodKcli"
      },
      "execution_count": null,
      "outputs": []
    },
    {
      "cell_type": "markdown",
      "source": [
        "Describe data"
      ],
      "metadata": {
        "id": "l0QVPA67Kq_7"
      }
    },
    {
      "cell_type": "code",
      "source": [
        "print(\"Shape of the dataset:\", data.shape)\n",
        "print(\"Columns in the dataset:\", data.columns)\n",
        "print(\"First few rows of the dataset:\")\n",
        "print(data.head())"
      ],
      "metadata": {
        "id": "qiNH3ONvKs1E"
      },
      "execution_count": null,
      "outputs": []
    },
    {
      "cell_type": "markdown",
      "source": [
        "Data Visualization"
      ],
      "metadata": {
        "id": "uoKgLOSfK93P"
      }
    },
    {
      "cell_type": "code",
      "source": [
        "plt.figure(figsize=(10, 6))\n",
        "    # sns.histplot(data['Rating'], bins=20, kde=True, color='skyblue')\n",
        "plt.title('Distribution of Movie Ratings')\n",
        "plt.xlabel('Rating')\n",
        "plt.ylabel('Frequency')\n",
        "plt.show()"
      ],
      "metadata": {
        "colab": {
          "base_uri": "https://localhost:8080/",
          "height": 106
        },
        "id": "Glb3liZZLIch",
        "outputId": "9db7c5ed-d72b-47c2-e241-83ffd3eacf8a"
      },
      "execution_count": null,
      "outputs": [
        {
          "output_type": "error",
          "ename": "IndentationError",
          "evalue": "unexpected indent (<ipython-input-8-182261d0e959>, line 3)",
          "traceback": [
            "\u001b[0;36m  File \u001b[0;32m\"<ipython-input-8-182261d0e959>\"\u001b[0;36m, line \u001b[0;32m3\u001b[0m\n\u001b[0;31m    plt.title('Distribution of Movie Ratings')\u001b[0m\n\u001b[0m    ^\u001b[0m\n\u001b[0;31mIndentationError\u001b[0m\u001b[0;31m:\u001b[0m unexpected indent\n"
          ]
        }
      ]
    },
    {
      "cell_type": "markdown",
      "source": [
        "Data Preprocessing"
      ],
      "metadata": {
        "id": "TAY7z2EzLKci"
      }
    },
    {
      "cell_type": "code",
      "source": [
        "label_encoder = LabelEncoder()\n",
        "data['Genre'] = label_encoder.fit_transform(data['Genre'])"
      ],
      "metadata": {
        "id": "V-6xdWFLLNtq"
      },
      "execution_count": null,
      "outputs": []
    },
    {
      "cell_type": "markdown",
      "source": [
        "Define Target Variable (y) and Feature Variables (X)"
      ],
      "metadata": {
        "id": "Hcn6eR8VLR3L"
      }
    },
    {
      "cell_type": "code",
      "source": [
        "X = data.drop(columns=['Rating'])\n",
        "y = data['Rating']"
      ],
      "metadata": {
        "id": "6cAXlWcqLbHk"
      },
      "execution_count": null,
      "outputs": []
    },
    {
      "cell_type": "markdown",
      "source": [
        "Train Test Split"
      ],
      "metadata": {
        "id": "hYQrsfo1Lxkw"
      }
    },
    {
      "cell_type": "code",
      "source": [
        "X_train, X_test, y_train, y_test = train_test_split(X, y, test_size=0.2, random_state=42)"
      ],
      "metadata": {
        "id": "VnsGYJ5rLyOC"
      },
      "execution_count": null,
      "outputs": []
    },
    {
      "cell_type": "markdown",
      "source": [
        "Modeling"
      ],
      "metadata": {
        "id": "UbKXdoptL3_8"
      }
    },
    {
      "cell_type": "code",
      "source": [
        "model = KNeighborsRegressor(n_neighbors=5)\n",
        "model.fit(X_train, y_train)\n"
      ],
      "metadata": {
        "id": "CamDOFsTL6gJ"
      },
      "execution_count": null,
      "outputs": []
    },
    {
      "cell_type": "markdown",
      "source": [
        "Model Evaluation"
      ],
      "metadata": {
        "id": "fFOlTs_yL_Yo"
      }
    },
    {
      "cell_type": "code",
      "source": [
        "y_pred = model.predict(X_test)\n",
        "rmse = np.sqrt(mean_squared_error(y_test, y_pred))\n",
        "print(\"Root Mean Squared Error:\", rmse)"
      ],
      "metadata": {
        "id": "BcASfL5VMD0l"
      },
      "execution_count": null,
      "outputs": []
    },
    {
      "cell_type": "markdown",
      "source": [
        "Prediction"
      ],
      "metadata": {
        "id": "mJegiNlCMKJ6"
      }
    },
    {
      "cell_type": "code",
      "source": [
        "print(\"Predictions for the first 5 samples in the test set:\")\n",
        "print(model.predict(X_test.head()))"
      ],
      "metadata": {
        "id": "UrsrvL-sMMw7"
      },
      "execution_count": null,
      "outputs": []
    },
    {
      "cell_type": "markdown",
      "source": [
        "Explaination"
      ],
      "metadata": {
        "id": "caFC2jqhMa4x"
      }
    },
    {
      "cell_type": "code",
      "source": [
        "print(\"This movie recommendation system uses the K-Nearest Neighbors algorithm to predict movie ratings based on features such as genre, runtime, and year of release. After training the model and evaluating its performance, we achieved a Root Mean Squared Error (RMSE) of\", rmse, \"on the test set. The RMSE indicates the average difference between the actual and predicted ratings. With further refinement and tuning, this recommendation system can be deployed to provide personalized movie recommendations to users.\")\n",
        "\n",
        "# except Exception as e:\n",
        "print(\"An error occurred:\", e)"
      ],
      "metadata": {
        "id": "Re2eUojHMY4c"
      },
      "execution_count": null,
      "outputs": []
    }
  ]
}